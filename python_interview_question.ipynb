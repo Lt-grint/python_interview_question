{
 "cells": [
  {
   "cell_type": "markdown",
   "metadata": {
    "slideshow": {
     "slide_type": "slide"
    }
   },
   "source": [
    "# Python基础\n",
    "## 文件操作\n",
    "### 1有一个jsonline格式的文件filetxt大小约为10k"
   ]
  },
  {
   "cell_type": "code",
   "execution_count": 1,
   "metadata": {
    "ExecuteTime": {
     "end_time": "2019-03-20T07:23:26.200747Z",
     "start_time": "2019-03-20T07:23:26.189901Z"
    }
   },
   "outputs": [
    {
     "ename": "SyntaxError",
     "evalue": "EOL while scanning string literal (<ipython-input-1-b930cde1ae70>, line 3)",
     "output_type": "error",
     "traceback": [
      "\u001b[0;36m  File \u001b[0;32m\"<ipython-input-1-b930cde1ae70>\"\u001b[0;36m, line \u001b[0;32m3\u001b[0m\n\u001b[0;31m    with open('file.txt','rb) as f:\u001b[0m\n\u001b[0m                                   ^\u001b[0m\n\u001b[0;31mSyntaxError\u001b[0m\u001b[0;31m:\u001b[0m EOL while scanning string literal\n"
     ]
    }
   ],
   "source": [
    "def get_lines():\n",
    "    l = []\n",
    "    with open('file.txt','rb) as f:\n",
    "        for eachline in f:\n",
    "            l.append(eachline)\n",
    "        return l\n",
    "\n",
    "if __name__ == '__main__':\n",
    "    for e in get_lines():\n",
    "        process(e) #处理每一行数据"
   ]
  },
  {
   "cell_type": "markdown",
   "metadata": {},
   "source": [
    "现在要处理一个大小为10G的文件，但是内存只有4G，如果在只修改get_lines 函数而其他代码保持不变的情况下，应该如何实现？需要考虑的问题都有那些？"
   ]
  },
  {
   "cell_type": "code",
   "execution_count": null,
   "metadata": {},
   "outputs": [],
   "source": [
    "def get_lines():\n",
    "    l = []\n",
    "    with open('file.txt','rb') as f:\n",
    "        data = f.readlines(60000)\n",
    "    l.append(data)\n",
    "    yield l"
   ]
  },
  {
   "cell_type": "markdown",
   "metadata": {},
   "source": [
    "要考虑的问题有：内存只有4G无法一次性读入10G文件，需要分批读入分批读入数据要记录每次读入数据的位置。分批每次读取数据的大小，太小会在读取操作花费过多时间。"
   ]
  },
  {
   "cell_type": "markdown",
   "metadata": {},
   "source": [
    "###  2补充缺失的代码"
   ]
  },
  {
   "cell_type": "code",
   "execution_count": 2,
   "metadata": {
    "ExecuteTime": {
     "end_time": "2019-03-20T07:23:38.333124Z",
     "start_time": "2019-03-20T07:23:38.319112Z"
    }
   },
   "outputs": [],
   "source": [
    "def print_directory_contents(sPath):\n",
    "    \"\"\"\n",
    "    这个函数接收文件夹的名称作为输入参数\n",
    "    返回该文件夹中文件的路径\n",
    "    以及其包含文件夹中文件的路径\n",
    "    \"\"\"\n",
    "    import os\n",
    "    for sChild in os.listdir(sPath):\n",
    "        sChildPath = os.path.join(sPath,sChild)\n",
    "        if os.path.isdir(sChildPath):\n",
    "            print_directory_contents(sChildPath)\n",
    "        else:\n",
    "            print(sChildPath)"
   ]
  },
  {
   "cell_type": "markdown",
   "metadata": {},
   "source": [
    "## 模块与包\n",
    "### 3输入日期， 判断这一天是这一年的第几天？"
   ]
  },
  {
   "cell_type": "code",
   "execution_count": 3,
   "metadata": {
    "ExecuteTime": {
     "end_time": "2019-03-20T07:24:01.154676Z",
     "start_time": "2019-03-20T07:23:52.269804Z"
    }
   },
   "outputs": [
    {
     "name": "stdout",
     "output_type": "stream",
     "text": [
      "请输入年份: 2019\n",
      "请输入月份: 1\n",
      "请输入天: 1\n",
      "day_of_year:1\n"
     ]
    }
   ],
   "source": [
    "import datetime\n",
    "def dayofyear():\n",
    "    year = input(\"请输入年份: \")\n",
    "    month = input(\"请输入月份: \")\n",
    "    day = input(\"请输入天: \")\n",
    "    date1 = datetime.date(year=int(year),month=int(month),day=int(day))\n",
    "    date2 = datetime.date(year=int(year),month=1,day=1)\n",
    "    return (date1-date2).days + 1\n",
    "day_of_year = dayofyear()\n",
    "print(\"day_of_year:%s\" % day_of_year)"
   ]
  },
  {
   "cell_type": "markdown",
   "metadata": {},
   "source": [
    "### 4打乱一个排好序的list对象alist？"
   ]
  },
  {
   "cell_type": "code",
   "execution_count": 3,
   "metadata": {
    "ExecuteTime": {
     "end_time": "2019-03-20T15:43:46.330344Z",
     "start_time": "2019-03-20T15:43:46.315514Z"
    }
   },
   "outputs": [
    {
     "name": "stdout",
     "output_type": "stream",
     "text": [
      "[1, 3, 5, 2, 4]\n"
     ]
    }
   ],
   "source": [
    "import random\n",
    "alist = [1,2,3,4,5]\n",
    "random.shuffle(alist)\n",
    "print(alist)"
   ]
  },
  {
   "cell_type": "markdown",
   "metadata": {},
   "source": [
    "## 数据类型\n",
    "### 5现有字典 d= {'a':24,'g':52,'i':12,'k':33}请按value值进行排序?"
   ]
  },
  {
   "cell_type": "code",
   "execution_count": 4,
   "metadata": {
    "ExecuteTime": {
     "end_time": "2019-03-20T15:43:48.275584Z",
     "start_time": "2019-03-20T15:43:48.258897Z"
    }
   },
   "outputs": [
    {
     "name": "stdout",
     "output_type": "stream",
     "text": [
      "{'i': 12, 'a': 24, 'k': 33, 'g': 52}\n"
     ]
    }
   ],
   "source": [
    "d = {'a':24,'g':52,'i':12,'k':33}\n",
    "d1 = {key:value for key,value in sorted(d.items(),key=lambda x:x[1])}\n",
    "print(d1)"
   ]
  },
  {
   "cell_type": "markdown",
   "metadata": {},
   "source": [
    "### 6字典推导式"
   ]
  },
  {
   "cell_type": "code",
   "execution_count": 5,
   "metadata": {
    "ExecuteTime": {
     "end_time": "2019-03-20T15:43:49.221134Z",
     "start_time": "2019-03-20T15:43:49.213825Z"
    }
   },
   "outputs": [
    {
     "name": "stdout",
     "output_type": "stream",
     "text": [
      "{'a': 1, 'b': 2, 'C': 3}\n"
     ]
    }
   ],
   "source": [
    "iterable = [(\"a\",1), (\"b\",2), (\"C\",3)]\n",
    "d = {key:value for (key,value) in iterable}\n",
    "print(d)"
   ]
  },
  {
   "cell_type": "markdown",
   "metadata": {},
   "source": [
    "### 7请反转字符串 \"aStr\"?"
   ]
  },
  {
   "cell_type": "code",
   "execution_count": 6,
   "metadata": {
    "ExecuteTime": {
     "end_time": "2019-03-20T15:43:51.105439Z",
     "start_time": "2019-03-20T15:43:51.097372Z"
    }
   },
   "outputs": [
    {
     "name": "stdout",
     "output_type": "stream",
     "text": [
      "rtSa\n",
      "rtSa\n"
     ]
    }
   ],
   "source": [
    "s = \"aStr\"\n",
    "b = s[::-1]\n",
    "print(b)\n",
    "\n",
    "c = \"\".join(reversed(s))\n",
    "print(c)"
   ]
  },
  {
   "cell_type": "markdown",
   "metadata": {},
   "source": [
    "### 8将字符串 \"k:1 |k1:2|k2:3|k3:4\"，处理成字典 {k:1,k1:2,...}"
   ]
  },
  {
   "cell_type": "code",
   "execution_count": 7,
   "metadata": {
    "ExecuteTime": {
     "end_time": "2019-03-20T15:43:52.802742Z",
     "start_time": "2019-03-20T15:43:52.785662Z"
    }
   },
   "outputs": [
    {
     "name": "stdout",
     "output_type": "stream",
     "text": [
      "{'k': 1, 'k1': 2, 'k2': 3, 'k3': 4}\n",
      "{'k': 1, 'k1': 2, 'k2': 3, 'k3': 4}\n",
      "{'k': 1, 'k1': 2, 'k2': 3, 'k3': 4}\n"
     ]
    }
   ],
   "source": [
    "s = \"k:1 |k1:2|k2:3|k3:4\"\n",
    "d = {i.split(\":\")[0]:int(i.split(\":\")[1]) for i in s.split(\"|\")}\n",
    "print(d)\n",
    "\n",
    "str1 = \"k:1|k1:2|k2:3|k3:4\"\n",
    "def str2dict(str1):\n",
    "    dict1 = {}\n",
    "    for iterms in str1.split('|'):\n",
    "        key,value = iterms.split(':')\n",
    "        dict1[key] = int(value)\n",
    "    return dict1\n",
    "print(str2dict(str1))\n",
    "#字典推导式\n",
    "d = {k:int(v) for t in str1.split(\"|\") for k, v in (t.split(\":\"), )}\n",
    "print(d)"
   ]
  },
  {
   "cell_type": "markdown",
   "metadata": {},
   "source": [
    "### 9请按alist中元素的age由小到大排序"
   ]
  },
  {
   "cell_type": "code",
   "execution_count": 14,
   "metadata": {
    "ExecuteTime": {
     "end_time": "2019-03-20T07:28:10.926022Z",
     "start_time": "2019-03-20T07:28:10.911243Z"
    }
   },
   "outputs": [
    {
     "name": "stdout",
     "output_type": "stream",
     "text": [
      "[{'name': 'a', 'age': 20}, {'name': 'c', 'age': 25}, {'name': 'b', 'age': 30}]\n"
     ]
    }
   ],
   "source": [
    "alist = [{'name':'a','age':20},{'name':'b','age':30},{'name':'c','age':25}]\n",
    "def sort_by_age(list1):\n",
    "    # reverse=True 降序， reverse=False 升序，默认值\n",
    "    return sorted(alist, key=lambda x:x['age'])\n",
    "print(sort_by_age(alist))"
   ]
  },
  {
   "cell_type": "markdown",
   "metadata": {},
   "source": [
    "### 10下面代码的输出结果将是什么？"
   ]
  },
  {
   "cell_type": "code",
   "execution_count": 33,
   "metadata": {},
   "outputs": [
    {
     "name": "stdout",
     "output_type": "stream",
     "text": [
      "[]\n"
     ]
    }
   ],
   "source": [
    "list = ['a','b','c','d','e']\n",
    "print(list[10:])"
   ]
  },
  {
   "cell_type": "markdown",
   "metadata": {},
   "source": [
    "代码将输出[],不会产生IndexError错误，就像所期望的那样，尝试用超出成员的个数的index来获取某个列表的成员。例如，尝试获取list[10]和之后的成员，会导致IndexError。然而，尝试获取列表的切片，开始的index超过了成员个数不会产生IndexError，而是仅仅返回一个空列表。这成为特别让人恶心的疑难杂症，因为运行的时候没有错误产生，导致Bug很难被追踪到。"
   ]
  },
  {
   "cell_type": "markdown",
   "metadata": {},
   "source": [
    "### 11写一个列表生成式，产生一个公差为11的等差数列"
   ]
  },
  {
   "cell_type": "code",
   "execution_count": 35,
   "metadata": {},
   "outputs": [
    {
     "name": "stdout",
     "output_type": "stream",
     "text": [
      "[0, 11, 22, 33, 44, 55, 66, 77, 88, 99]\n"
     ]
    }
   ],
   "source": [
    "print([x * 11 for x in range(10)])"
   ]
  },
  {
   "cell_type": "markdown",
   "metadata": {},
   "source": [
    "### 12给定两个列表，怎么找出他们相同的元素和不同的元素？"
   ]
  },
  {
   "cell_type": "code",
   "execution_count": 36,
   "metadata": {},
   "outputs": [
    {
     "name": "stdout",
     "output_type": "stream",
     "text": [
      "{3}\n",
      "{1, 2, 4, 5}\n"
     ]
    }
   ],
   "source": [
    "list1 = [1,2,3]\n",
    "list2 = [3,4,5]\n",
    "set1 = set(list1)\n",
    "set2 = set(list2)\n",
    "print(set1 & set2)\n",
    "print(set1 ^ set2)"
   ]
  },
  {
   "cell_type": "markdown",
   "metadata": {},
   "source": [
    "### 13请写出一段python代码实现删除list里面的重复元素？"
   ]
  },
  {
   "cell_type": "code",
   "execution_count": 17,
   "metadata": {
    "ExecuteTime": {
     "end_time": "2019-03-20T07:30:34.509823Z",
     "start_time": "2019-03-20T07:30:34.498273Z"
    }
   },
   "outputs": [
    {
     "name": "stdout",
     "output_type": "stream",
     "text": [
      "['d', 'a', 'b', 'c']\n"
     ]
    }
   ],
   "source": [
    "list_1 = ['b','c','d','c','a','a']\n",
    "list_2 = list(set(list_1)) \n",
    "print(list_2)"
   ]
  },
  {
   "cell_type": "markdown",
   "metadata": {},
   "source": [
    "用list类的sort方法或者sorted:"
   ]
  },
  {
   "cell_type": "code",
   "execution_count": 66,
   "metadata": {},
   "outputs": [
    {
     "name": "stdout",
     "output_type": "stream",
     "text": [
      "['b', 'c', 'd', 'a']\n",
      "['b', 'c', 'd', 'a']\n"
     ]
    }
   ],
   "source": [
    "list_1 = ['b','c','d','c','a','a']\n",
    "list_2 = [i for i in set(list_1)]\n",
    "list_2.sort(key=list_1.index)\n",
    "print(list_2)\n",
    "\n",
    "l2 = sorted(set(list_1),key=list_1.index)\n",
    "print(l2)"
   ]
  },
  {
   "cell_type": "markdown",
   "metadata": {},
   "source": [
    "也可以这样写:"
   ]
  },
  {
   "cell_type": "code",
   "execution_count": 68,
   "metadata": {},
   "outputs": [
    {
     "name": "stdout",
     "output_type": "stream",
     "text": [
      "['b', 'c', 'd', 'a']\n"
     ]
    }
   ],
   "source": [
    "l1 = ['b','c','d','c','a','a']\n",
    "l2 = []\n",
    "for i in l1:\n",
    "    if not i in l2:\n",
    "        l2.append(i)\n",
    "print(l2)"
   ]
  },
  {
   "cell_type": "markdown",
   "metadata": {},
   "source": [
    "或者这样写"
   ]
  },
  {
   "cell_type": "code",
   "execution_count": 16,
   "metadata": {
    "ExecuteTime": {
     "end_time": "2019-03-20T07:29:31.049168Z",
     "start_time": "2019-03-20T07:29:31.039613Z"
    }
   },
   "outputs": [
    {
     "name": "stdout",
     "output_type": "stream",
     "text": [
      "[1, 2, 3]\n"
     ]
    }
   ],
   "source": [
    "a = [1, 2, 3]\n",
    "b = list(set(a))\n",
    "print(b)"
   ]
  },
  {
   "cell_type": "markdown",
   "metadata": {},
   "source": [
    "### 14给定两个list A，B ,请用找出A，B中相同与不同的元素"
   ]
  },
  {
   "cell_type": "code",
   "execution_count": 9,
   "metadata": {
    "ExecuteTime": {
     "end_time": "2019-03-21T01:03:56.491889Z",
     "start_time": "2019-03-21T01:03:56.476163Z"
    }
   },
   "outputs": [
    {
     "name": "stdout",
     "output_type": "stream",
     "text": [
      "{3, 4}\n",
      "{1, 2, 5, 6}\n"
     ]
    }
   ],
   "source": [
    "A = [1, 2, 3, 4]\n",
    "B = [3, 4, 5, 6]\n",
    "\n",
    "C = set(A) & set(B) #相同\n",
    "D = set(A) ^ set(B) #不同\n",
    "print(C)\n",
    "print(D)\n"
   ]
  }
 ],
 "metadata": {
  "celltoolbar": "编辑元数据",
  "kernelspec": {
   "display_name": "Python 3",
   "language": "python",
   "name": "python3"
  },
  "language_info": {
   "codemirror_mode": {
    "name": "ipython",
    "version": 3
   },
   "file_extension": ".py",
   "mimetype": "text/x-python",
   "name": "python",
   "nbconvert_exporter": "python",
   "pygments_lexer": "ipython3",
   "version": "3.7.1"
  },
  "latex_envs": {
   "LaTeX_envs_menu_present": true,
   "autoclose": false,
   "autocomplete": true,
   "bibliofile": "biblio.bib",
   "cite_by": "apalike",
   "current_citInitial": 1,
   "eqLabelWithNumbers": true,
   "eqNumInitial": 1,
   "hotkeys": {
    "equation": "Ctrl-E",
    "itemize": "Ctrl-I"
   },
   "labels_anchors": false,
   "latex_user_defs": false,
   "report_style_numbering": false,
   "user_envs_cfg": false
  },
  "toc": {
   "base_numbering": 1,
   "nav_menu": {
    "height": "219px",
    "width": "206px"
   },
   "number_sections": true,
   "sideBar": true,
   "skip_h1_title": false,
   "title_cell": "Table of Contents",
   "title_sidebar": "Contents",
   "toc_cell": false,
   "toc_position": {},
   "toc_section_display": true,
   "toc_window_display": true
  }
 },
 "nbformat": 4,
 "nbformat_minor": 2
}
