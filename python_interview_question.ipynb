{
 "cells": [
  {
   "cell_type": "markdown",
   "metadata": {
    "slideshow": {
     "slide_type": "slide"
    }
   },
   "source": [
    "# Python基础\n",
    "## 文件操作\n",
    "### 1.有一个jsonline格式的文件filetxt大小约为10k"
   ]
  },
  {
   "cell_type": "code",
   "execution_count": 10,
   "metadata": {
    "ExecuteTime": {
     "end_time": "2019-03-21T11:12:57.676590Z",
     "start_time": "2019-03-21T11:12:57.660711Z"
    }
   },
   "outputs": [
    {
     "ename": "SyntaxError",
     "evalue": "EOL while scanning string literal (<ipython-input-10-b930cde1ae70>, line 3)",
     "output_type": "error",
     "traceback": [
      "\u001b[0;36m  File \u001b[0;32m\"<ipython-input-10-b930cde1ae70>\"\u001b[0;36m, line \u001b[0;32m3\u001b[0m\n\u001b[0;31m    with open('file.txt','rb) as f:\u001b[0m\n\u001b[0m                                   ^\u001b[0m\n\u001b[0;31mSyntaxError\u001b[0m\u001b[0;31m:\u001b[0m EOL while scanning string literal\n"
     ]
    }
   ],
   "source": [
    "def get_lines():\n",
    "    l = []\n",
    "    with open('file.txt','rb) as f:\n",
    "        for eachline in f:\n",
    "            l.append(eachline)\n",
    "        return l\n",
    "\n",
    "if __name__ == '__main__':\n",
    "    for e in get_lines():\n",
    "        process(e) #处理每一行数据"
   ]
  },
  {
   "cell_type": "markdown",
   "metadata": {},
   "source": [
    "现在要处理一个大小为10G的文件，但是内存只有4G，如果在只修改get_lines 函数而其他代码保持不变的情况下，应该如何实现？需要考虑的问题都有那些？"
   ]
  },
  {
   "cell_type": "code",
   "execution_count": 11,
   "metadata": {
    "ExecuteTime": {
     "end_time": "2019-03-21T11:12:57.788429Z",
     "start_time": "2019-03-21T11:12:57.782265Z"
    }
   },
   "outputs": [],
   "source": [
    "def get_lines():\n",
    "    l = []\n",
    "    with open('file.txt','rb') as f:\n",
    "        data = f.readlines(60000)\n",
    "    l.append(data)\n",
    "    yield l"
   ]
  },
  {
   "cell_type": "markdown",
   "metadata": {},
   "source": [
    "要考虑的问题有：内存只有4G无法一次性读入10G文件，需要分批读入分批读入数据要记录每次读入数据的位置。分批每次读取数据的大小，太小会在读取操作花费过多时间。"
   ]
  },
  {
   "cell_type": "markdown",
   "metadata": {},
   "source": [
    "###  2.补充缺失的代码"
   ]
  },
  {
   "cell_type": "code",
   "execution_count": 12,
   "metadata": {
    "ExecuteTime": {
     "end_time": "2019-03-21T11:12:57.859144Z",
     "start_time": "2019-03-21T11:12:57.851122Z"
    }
   },
   "outputs": [],
   "source": [
    "def print_directory_contents(sPath):\n",
    "    \"\"\"\n",
    "    这个函数接收文件夹的名称作为输入参数\n",
    "    返回该文件夹中文件的路径\n",
    "    以及其包含文件夹中文件的路径\n",
    "    \"\"\"\n",
    "    import os\n",
    "    for sChild in os.listdir(sPath):\n",
    "        sChildPath = os.path.join(sPath,sChild)\n",
    "        if os.path.isdir(sChildPath):\n",
    "            print_directory_contents(sChildPath)\n",
    "        else:\n",
    "            print(sChildPath)"
   ]
  },
  {
   "cell_type": "markdown",
   "metadata": {},
   "source": [
    "## 模块与包\n",
    "### 3.输入日期， 判断这一天是这一年的第几天？"
   ]
  },
  {
   "cell_type": "code",
   "execution_count": 13,
   "metadata": {
    "ExecuteTime": {
     "end_time": "2019-03-21T11:13:07.690704Z",
     "start_time": "2019-03-21T11:12:57.925953Z"
    }
   },
   "outputs": [
    {
     "name": "stdout",
     "output_type": "stream",
     "text": [
      "请输入年份: 2019\n",
      "请输入月份: 1\n",
      "请输入天: 1\n",
      "day_of_year:1\n"
     ]
    }
   ],
   "source": [
    "import datetime\n",
    "def dayofyear():\n",
    "    year = input(\"请输入年份: \")\n",
    "    month = input(\"请输入月份: \")\n",
    "    day = input(\"请输入天: \")\n",
    "    date1 = datetime.date(year=int(year),month=int(month),day=int(day))\n",
    "    date2 = datetime.date(year=int(year),month=1,day=1)\n",
    "    return (date1-date2).days + 1\n",
    "day_of_year = dayofyear()\n",
    "print(\"day_of_year:%s\" % day_of_year)"
   ]
  },
  {
   "cell_type": "markdown",
   "metadata": {},
   "source": [
    "### 4.打乱一个排好序的list对象alist？"
   ]
  },
  {
   "cell_type": "code",
   "execution_count": 14,
   "metadata": {
    "ExecuteTime": {
     "end_time": "2019-03-21T11:13:07.702219Z",
     "start_time": "2019-03-21T11:13:07.694283Z"
    }
   },
   "outputs": [
    {
     "name": "stdout",
     "output_type": "stream",
     "text": [
      "[4, 3, 2, 5, 1]\n"
     ]
    }
   ],
   "source": [
    "import random\n",
    "alist = [1,2,3,4,5]\n",
    "random.shuffle(alist)\n",
    "print(alist)"
   ]
  },
  {
   "cell_type": "markdown",
   "metadata": {},
   "source": [
    "## 数据类型\n",
    "### 5.现有字典 d= {'a':24,'g':52,'i':12,'k':33}请按value值进行排序?"
   ]
  },
  {
   "cell_type": "code",
   "execution_count": 15,
   "metadata": {
    "ExecuteTime": {
     "end_time": "2019-03-21T11:13:07.716655Z",
     "start_time": "2019-03-21T11:13:07.706484Z"
    }
   },
   "outputs": [
    {
     "name": "stdout",
     "output_type": "stream",
     "text": [
      "{'i': 12, 'a': 24, 'k': 33, 'g': 52}\n"
     ]
    }
   ],
   "source": [
    "d = {'a':24,'g':52,'i':12,'k':33}\n",
    "d1 = {key:value for key,value in sorted(d.items(),key=lambda x:x[1])}\n",
    "print(d1)"
   ]
  },
  {
   "cell_type": "markdown",
   "metadata": {},
   "source": [
    "### 6.字典推导式"
   ]
  },
  {
   "cell_type": "code",
   "execution_count": 16,
   "metadata": {
    "ExecuteTime": {
     "end_time": "2019-03-21T11:13:07.740599Z",
     "start_time": "2019-03-21T11:13:07.721515Z"
    }
   },
   "outputs": [
    {
     "name": "stdout",
     "output_type": "stream",
     "text": [
      "{'a': 1, 'b': 2, 'C': 3}\n"
     ]
    }
   ],
   "source": [
    "iterable = [(\"a\",1), (\"b\",2), (\"C\",3)]\n",
    "d = {key:value for (key,value) in iterable}\n",
    "print(d)"
   ]
  },
  {
   "cell_type": "markdown",
   "metadata": {},
   "source": [
    "### 7.请反转字符串 \"aStr\"?"
   ]
  },
  {
   "cell_type": "code",
   "execution_count": 17,
   "metadata": {
    "ExecuteTime": {
     "end_time": "2019-03-21T11:13:07.761116Z",
     "start_time": "2019-03-21T11:13:07.746327Z"
    }
   },
   "outputs": [
    {
     "name": "stdout",
     "output_type": "stream",
     "text": [
      "rtSa\n",
      "rtSa\n"
     ]
    }
   ],
   "source": [
    "s = \"aStr\"\n",
    "b = s[::-1]\n",
    "print(b)\n",
    "\n",
    "c = \"\".join(reversed(s))\n",
    "print(c)"
   ]
  },
  {
   "cell_type": "markdown",
   "metadata": {},
   "source": [
    "### 8.将字符串 \"k:1 |k1:2|k2:3|k3:4\"，处理成字典 {k:1,k1:2,...}"
   ]
  },
  {
   "cell_type": "code",
   "execution_count": 18,
   "metadata": {
    "ExecuteTime": {
     "end_time": "2019-03-21T11:13:07.787137Z",
     "start_time": "2019-03-21T11:13:07.764860Z"
    }
   },
   "outputs": [
    {
     "name": "stdout",
     "output_type": "stream",
     "text": [
      "{'k': 1, 'k1': 2, 'k2': 3, 'k3': 4}\n",
      "{'k': 1, 'k1': 2, 'k2': 3, 'k3': 4}\n",
      "{'k': 1, 'k1': 2, 'k2': 3, 'k3': 4}\n"
     ]
    }
   ],
   "source": [
    "s = \"k:1 |k1:2|k2:3|k3:4\"\n",
    "d = {i.split(\":\")[0]:int(i.split(\":\")[1]) for i in s.split(\"|\")}\n",
    "print(d)\n",
    "\n",
    "str1 = \"k:1|k1:2|k2:3|k3:4\"\n",
    "def str2dict(str1):\n",
    "    dict1 = {}\n",
    "    for iterms in str1.split('|'):\n",
    "        key,value = iterms.split(':')\n",
    "        dict1[key] = int(value)\n",
    "    return dict1\n",
    "print(str2dict(str1))\n",
    "#字典推导式\n",
    "d = {k:int(v) for t in str1.split(\"|\") for k, v in (t.split(\":\"), )}\n",
    "print(d)"
   ]
  },
  {
   "cell_type": "markdown",
   "metadata": {},
   "source": [
    "### 9.请按alist中元素的age由小到大排序"
   ]
  },
  {
   "cell_type": "code",
   "execution_count": 19,
   "metadata": {
    "ExecuteTime": {
     "end_time": "2019-03-21T11:13:07.811032Z",
     "start_time": "2019-03-21T11:13:07.790683Z"
    }
   },
   "outputs": [
    {
     "name": "stdout",
     "output_type": "stream",
     "text": [
      "[{'name': 'a', 'age': 20}, {'name': 'c', 'age': 25}, {'name': 'b', 'age': 30}]\n"
     ]
    }
   ],
   "source": [
    "alist = [{'name':'a','age':20},{'name':'b','age':30},{'name':'c','age':25}]\n",
    "def sort_by_age(list1):\n",
    "    # reverse=True 降序， reverse=False 升序，默认值\n",
    "    return sorted(alist, key=lambda x:x['age'])\n",
    "print(sort_by_age(alist))"
   ]
  },
  {
   "cell_type": "markdown",
   "metadata": {},
   "source": [
    "### 10.下面代码的输出结果将是什么？"
   ]
  },
  {
   "cell_type": "code",
   "execution_count": 20,
   "metadata": {
    "ExecuteTime": {
     "end_time": "2019-03-21T11:13:07.831704Z",
     "start_time": "2019-03-21T11:13:07.814902Z"
    }
   },
   "outputs": [
    {
     "name": "stdout",
     "output_type": "stream",
     "text": [
      "[]\n"
     ]
    }
   ],
   "source": [
    "list = ['a','b','c','d','e']\n",
    "print(list[10:])"
   ]
  },
  {
   "cell_type": "markdown",
   "metadata": {},
   "source": [
    "代码将输出[],不会产生IndexError错误，就像所期望的那样，尝试用超出成员的个数的index来获取某个列表的成员。例如，尝试获取list[10]和之后的成员，会导致IndexError。然而，尝试获取列表的切片，开始的index超过了成员个数不会产生IndexError，而是仅仅返回一个空列表。这成为特别让人恶心的疑难杂症，因为运行的时候没有错误产生，导致Bug很难被追踪到。"
   ]
  },
  {
   "cell_type": "markdown",
   "metadata": {},
   "source": [
    "### 11.写一个列表生成式，产生一个公差为11的等差数列"
   ]
  },
  {
   "cell_type": "code",
   "execution_count": 21,
   "metadata": {
    "ExecuteTime": {
     "end_time": "2019-03-21T11:13:07.843872Z",
     "start_time": "2019-03-21T11:13:07.834468Z"
    }
   },
   "outputs": [
    {
     "name": "stdout",
     "output_type": "stream",
     "text": [
      "[0, 11, 22, 33, 44, 55, 66, 77, 88, 99]\n"
     ]
    }
   ],
   "source": [
    "print([x * 11 for x in range(10)])"
   ]
  },
  {
   "cell_type": "markdown",
   "metadata": {},
   "source": [
    "### 12.给定两个列表，怎么找出他们相同的元素和不同的元素？"
   ]
  },
  {
   "cell_type": "code",
   "execution_count": 22,
   "metadata": {
    "ExecuteTime": {
     "end_time": "2019-03-21T11:13:07.869376Z",
     "start_time": "2019-03-21T11:13:07.849031Z"
    }
   },
   "outputs": [
    {
     "name": "stdout",
     "output_type": "stream",
     "text": [
      "{3}\n",
      "{1, 2, 4, 5}\n"
     ]
    }
   ],
   "source": [
    "list1 = [1,2,3]\n",
    "list2 = [3,4,5]\n",
    "set1 = set(list1)\n",
    "set2 = set(list2)\n",
    "print(set1 & set2)\n",
    "print(set1 ^ set2)"
   ]
  },
  {
   "cell_type": "markdown",
   "metadata": {},
   "source": [
    "### 13.请写出一段python代码实现删除list里面的重复元素？"
   ]
  },
  {
   "cell_type": "code",
   "execution_count": 29,
   "metadata": {
    "ExecuteTime": {
     "end_time": "2019-03-21T11:19:27.473156Z",
     "start_time": "2019-03-21T11:19:27.464910Z"
    }
   },
   "outputs": [
    {
     "name": "stdout",
     "output_type": "stream",
     "text": [
      "[{'a', 'd', 'c', 'b'}]\n"
     ]
    }
   ],
   "source": [
    "list_1 = ['b','c','d','c','a','a']\n",
    "list_2 = [set(list_1)]\n",
    "print(list_2)"
   ]
  },
  {
   "cell_type": "markdown",
   "metadata": {},
   "source": [
    "用list类的sort方法或者sorted:"
   ]
  },
  {
   "cell_type": "code",
   "execution_count": 30,
   "metadata": {
    "ExecuteTime": {
     "end_time": "2019-03-21T11:19:30.046791Z",
     "start_time": "2019-03-21T11:19:30.029356Z"
    }
   },
   "outputs": [
    {
     "name": "stdout",
     "output_type": "stream",
     "text": [
      "['b', 'c', 'd', 'a']\n",
      "['b', 'c', 'd', 'a']\n"
     ]
    }
   ],
   "source": [
    "list_1 = ['b','c','d','c','a','a']\n",
    "list_2 = [i for i in set(list_1)]\n",
    "list_2.sort(key=list_1.index)\n",
    "print(list_2)\n",
    "\n",
    "l2 = sorted(set(list_1),key=list_1.index)\n",
    "print(l2)"
   ]
  },
  {
   "cell_type": "markdown",
   "metadata": {},
   "source": [
    "也可以这样写:"
   ]
  },
  {
   "cell_type": "code",
   "execution_count": 31,
   "metadata": {
    "ExecuteTime": {
     "end_time": "2019-03-21T11:19:40.204668Z",
     "start_time": "2019-03-21T11:19:40.195112Z"
    }
   },
   "outputs": [
    {
     "name": "stdout",
     "output_type": "stream",
     "text": [
      "['b', 'c', 'd', 'a']\n"
     ]
    }
   ],
   "source": [
    "l1 = ['b','c','d','c','a','a']\n",
    "l2 = []\n",
    "for i in l1:\n",
    "    if not i in l2:\n",
    "        l2.append(i)\n",
    "print(l2)"
   ]
  },
  {
   "cell_type": "markdown",
   "metadata": {},
   "source": [
    "### 14.给定两个list A，B ,请用找出A，B中相同与不同的元素"
   ]
  },
  {
   "cell_type": "code",
   "execution_count": 36,
   "metadata": {
    "ExecuteTime": {
     "end_time": "2019-03-21T11:26:18.804636Z",
     "start_time": "2019-03-21T11:26:18.789214Z"
    }
   },
   "outputs": [
    {
     "name": "stdout",
     "output_type": "stream",
     "text": [
      "{3, 4}\n",
      "{1, 2, 5, 6}\n",
      "{3, 4}\n",
      "{1, 2, 5, 6}\n"
     ]
    }
   ],
   "source": [
    "A = [1, 2, 3, 4]\n",
    "B = [3, 4, 5, 6]\n",
    "\n",
    "C = set(A) & set(B) #相同\n",
    "D = set(A) ^ set(B) #不同\n",
    "print(C)\n",
    "print(D)\n",
    "\n",
    "E = set(A).intersection(set(B))  # A 和B的公共元素\n",
    "print(E)\n",
    "F = set(A).symmetric_difference(set(B)) # A和B不同的元素\n",
    "print(F)"
   ]
  },
  {
   "cell_type": "markdown",
   "metadata": {
    "ExecuteTime": {
     "end_time": "2019-03-21T11:28:07.987571Z",
     "start_time": "2019-03-21T11:28:07.976346Z"
    }
   },
   "source": [
    "## 企业面试题\n",
    "### 15.python新式类和经典类的区别？\n",
    "a. 在python里凡是继承了object的类，都是新式类\n",
    "\n",
    "b. Python3里只有新式类\n",
    "\n",
    "c. Python2里面继承object的是新式类，没有写父类的是经典类\n",
    "\n",
    "d. 经典类目前在Python里基本没有应用"
   ]
  },
  {
   "cell_type": "markdown",
   "metadata": {},
   "source": [
    "### 16.python中内置的数据结构有几种？"
   ]
  },
  {
   "cell_type": "markdown",
   "metadata": {},
   "source": [
    "Python有五个标准的数据类型：\n",
    "\n",
    "- Numbers（数字）\n",
    "    - int（有符号整型）\n",
    "    - long（长整型[也可以代表八进制和十六进制]）\n",
    "    - float（浮点型）\n",
    "    - complex（复数）\n",
    "- String（字符串）\n",
    "- List（列表）\n",
    "- Tuple（元组）\n",
    "- Dictionary（字典）\n",
    "\n",
    "a. int（整型）\n",
    "\n",
    "　　在32位机器上，整数的位数为32位，取值范围为-2**31～2**31-1，即-2147483648～2147483647\n",
    "　　在64位系统上，整数的位数为64位，取值范围为-2**63～2**63-1，即-9223372036854775808～9223372036854775807\n",
    "\n",
    "b. long（长整型）\n",
    "　　跟C语言不同，Python的长整数没有指定位宽，即：Python没有限制长整数数值的大小，但实际上由于机器内存有限，长整数数值不可能无限大。\n",
    "　　注意，自从Python2.2起，如果整数发生溢出，Python会自动将整数数据转换为长整数，所以如今在长整数数据后面不加字母L也不会导致严重后果了。\n",
    "\n",
    "c. float（浮点型）\n",
    "\n",
    "　　浮点数用来处理实数，即带有小数的数字。类似于C语言中的double类型，占8个字节（64位），其中52位表示底，11位表示指数，剩下的一位表示符号。\n",
    "d. complex（复数）\n",
    "　　复数由实数部分和虚数部分组成，一般形式为x＋yj，其中的x是复数的实数部分，y是复数的虚数部分，这里的x和y都是实数。\n",
    "\n",
    "       注：Python中存在小数字池：-5 ～ 257\n",
    "\n",
    "小整数对象——小整型对象池\n",
    "\n",
    "在实际编程中，数值比较小的整数，比如1,2,29等，可能会非常频繁的出现。而在python中，所有的对象都存在于系统堆上。想想？如果某个小整数出现的次数非常多，那么Python将会出现大量的malloc/free操作，这样大大降低了运行效率，而且会造成大量的内存碎片，严重影响Python的整体性能。\n",
    "\n",
    "在Python2.5乃至3.3中，将小整数位于[-5,257)之间的数，缓存在小整型对象池中。"
   ]
  },
  {
   "cell_type": "code",
   "execution_count": null,
   "metadata": {
    "ExecuteTime": {
     "start_time": "2019-03-21T13:36:24.710Z"
    }
   },
   "outputs": [],
   "source": [
    "a = -5\n",
    "b = -5\n",
    "print(a is b)\n",
    "print(a == b)\n",
    "\n",
    "d = -6\n",
    "e = -6\n",
    "print(c is d)\n",
    "print(c == d)\n",
    "\n",
    "f = 257\n",
    "g = 257\n",
    "print(f == g)\n",
    "print(f is g)"
   ]
  },
  {
   "cell_type": "markdown",
   "metadata": {
    "ExecuteTime": {
     "end_time": "2019-03-21T11:37:45.906559Z",
     "start_time": "2019-03-21T11:37:45.900329Z"
    }
   },
   "source": [
    "### 17.python如何实现单例模式?请写出两种实现方式?\n",
    "第一种方法:使用装饰器"
   ]
  },
  {
   "cell_type": "code",
   "execution_count": 46,
   "metadata": {
    "ExecuteTime": {
     "end_time": "2019-03-21T11:43:11.891912Z",
     "start_time": "2019-03-21T11:43:11.877544Z"
    }
   },
   "outputs": [
    {
     "name": "stdout",
     "output_type": "stream",
     "text": [
      "True\n"
     ]
    }
   ],
   "source": [
    "def singleton(cls):\n",
    "    instances = {}\n",
    "\n",
    "    def wrapper(*args, **kwargs):\n",
    "        if cls not in instances:\n",
    "            instances[cls] = cls(*args, **kwargs)\n",
    "        return instances[cls]\n",
    "\n",
    "    return wrapper\n",
    "\n",
    "\n",
    "@singleton\n",
    "class Foo(object):\n",
    "    pass\n",
    "\n",
    "\n",
    "foo1 = Foo()\n",
    "foo2 = Foo()\n",
    "\n",
    "print(foo1 is foo2)"
   ]
  },
  {
   "cell_type": "markdown",
   "metadata": {},
   "source": [
    "第二种方法：使用基类 New 是真正创建实例对象的方法，所以重写基类的new 方法，以此保证创建对象的时候只生成一个实例"
   ]
  },
  {
   "cell_type": "code",
   "execution_count": null,
   "metadata": {
    "ExecuteTime": {
     "start_time": "2019-03-21T12:01:35.198Z"
    }
   },
   "outputs": [],
   "source": [
    "class Singleton(object):\n",
    "     _instance_lock = threading.Lock()\n",
    "    def __new__(cls, *args, **kwargs):\n",
    "        with Singleton._instance_locl:\n",
    "            if not hasattr(cls, \"_instance\"):\n",
    "                cls._instance = super(Singleton, cls).__new__(cls, *args, **kwargs)\n",
    "        return cls._instance\n",
    "\n",
    "\n",
    "class Foo(Singleton):\n",
    "    pass\n",
    "\n",
    "\n",
    "foo1 = Foo()\n",
    "foo2 = Foo()\n",
    "\n",
    "print(foo1 is foo2)"
   ]
  },
  {
   "cell_type": "markdown",
   "metadata": {},
   "source": [
    "第三种方法：元类，元类是用于创建类对象的类，类对象创建实例对象时一定要调用call方法，因此在调用call时候保证始终只创建一个实例即可，type是python的元类"
   ]
  },
  {
   "cell_type": "code",
   "execution_count": 59,
   "metadata": {
    "ExecuteTime": {
     "end_time": "2019-03-21T11:56:32.875557Z",
     "start_time": "2019-03-21T11:56:32.849672Z"
    }
   },
   "outputs": [
    {
     "name": "stdout",
     "output_type": "stream",
     "text": [
      "140393621757232\n",
      "140393621757176\n",
      "False\n"
     ]
    }
   ],
   "source": [
    "class Singleton(type):\n",
    "    def __call__(cls, *args, **kwargs):\n",
    "        if not hasattr(cls, \"_instance\"):\n",
    "            cls._instance = super(Singleton, cls).__call__(cls, *args, **kwargs)\n",
    "        return cls._instance\n",
    "\n",
    "\n",
    "class Foo(object):\n",
    "    __metaclass__ = Singleton\n",
    "\n",
    "\n",
    "foo1 = Foo()\n",
    "foo2 = Foo()\n",
    "\n",
    "print(id(foo1))\n",
    "print(id(foo2))\n",
    "print(foo1 is foo2)"
   ]
  },
  {
   "cell_type": "code",
   "execution_count": null,
   "metadata": {},
   "outputs": [],
   "source": []
  }
 ],
 "metadata": {
  "kernelspec": {
   "display_name": "Python 3",
   "language": "python",
   "name": "python3"
  },
  "language_info": {
   "codemirror_mode": {
    "name": "ipython",
    "version": 3
   },
   "file_extension": ".py",
   "mimetype": "text/x-python",
   "name": "python",
   "nbconvert_exporter": "python",
   "pygments_lexer": "ipython3",
   "version": "3.7.1"
  },
  "latex_envs": {
   "LaTeX_envs_menu_present": true,
   "autoclose": false,
   "autocomplete": true,
   "bibliofile": "biblio.bib",
   "cite_by": "apalike",
   "current_citInitial": 1,
   "eqLabelWithNumbers": true,
   "eqNumInitial": 1,
   "hotkeys": {
    "equation": "Ctrl-E",
    "itemize": "Ctrl-I"
   },
   "labels_anchors": false,
   "latex_user_defs": false,
   "report_style_numbering": false,
   "user_envs_cfg": false
  },
  "toc": {
   "base_numbering": 1,
   "nav_menu": {
    "height": "219px",
    "width": "206px"
   },
   "number_sections": true,
   "sideBar": true,
   "skip_h1_title": false,
   "title_cell": "Table of Contents",
   "title_sidebar": "Contents",
   "toc_cell": false,
   "toc_position": {},
   "toc_section_display": true,
   "toc_window_display": true
  }
 },
 "nbformat": 4,
 "nbformat_minor": 2
}
